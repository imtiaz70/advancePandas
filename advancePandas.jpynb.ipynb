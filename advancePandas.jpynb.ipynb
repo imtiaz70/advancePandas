{
 "cells": [
  {
   "cell_type": "markdown",
   "id": "9c89ec66",
   "metadata": {},
   "source": [
    "# Learining Advance Pandas , ZeeShu Books"
   ]
  },
  {
   "cell_type": "code",
   "execution_count": null,
   "id": "24c02494",
   "metadata": {},
   "outputs": [],
   "source": [
    "import numpy as np\n",
    "import pandas as pd\n",
    "\n",
    "MyDataFrame = pd.DataFrame(np.random.rand(5,3),columns=['col1','col2','col3'])\n",
    "print(MyDataFrame)\n",
    "\n",
    "def adderFun(eli1,eli2):\n",
    "    return(eli1+eli2)\n",
    "\n",
    "# MyDataFrame.pipe(adderFun,3)\n",
    "\n",
    "\n",
    "# print(\"MEAN \\n\",MyDataFrame.mean(1))\n",
    "\n",
    "# print(\"Using Lambda:\\n \" , MyDataFrame.apply(lambda x: x.max()-x.min()))\n",
    "# MyDataFrame.apply(np.mean,axis=1)\n",
    "# print(\"2nd Mean \\n \" , MyDataFrame.apply(np.mean,axis=1))\n",
    "MyDataFrame.applymap(lambda x:x*100)\n",
    "print(MyDataFrame.apply(np.mean))\n",
    "\n",
    "\n",
    "\n",
    "\n"
   ]
  },
  {
   "cell_type": "code",
   "execution_count": null,
   "id": "83ca1b69",
   "metadata": {},
   "outputs": [],
   "source": [
    "import numpy as np\n",
    "import pandas as pd\n",
    "\n",
    "dataFrame2 = pd.DataFrame({'Name':pd.Series(['Ali' , 'abuBakar' , 'Umer' , 'Usman' , 'Ilyas']) , 'Age':pd.Series([23,6,22,19,18]) , 'CGP':pd.Series([2.22,2.9,1.9,3.2,4.0])})\n",
    "print(dataFrame2)\n",
    "# print(\"Call a column \\n \" , dataFrame2.T)\n",
    "\n",
    "#DATAFRAME_03\n",
    "N = 20\n",
    "dataFrame3 = pd.DataFrame({'A':pd.date_range(start='20220602' , periods=N , freq='D') , \n",
    "                           'x':np.linspace(0,N-1,N),\n",
    "                           'y':np.random.rand(N),\n",
    "                           'C':np.random.choice(['Low','Medium','High'],N).tolist(),\n",
    "                           'D':np.random.normal(100,10,size=N).tolist()})\n",
    "# print(dataFrame3)\n",
    "print(\"\\n AFTER REINDEXING \\n\")\n",
    "\n",
    "df_reindexing = dataFrame3.reindex(index=[0,2,7] , columns=['A','C'])\n",
    "# print(df_reindexing)\n",
    "\n",
    "print(\"\\n Printing columns \\n\")\n",
    "for col in dataFrame3:\n",
    "    print(col)"
   ]
  },
  {
   "cell_type": "code",
   "execution_count": null,
   "metadata": {},
   "outputs": [],
   "source": [
    "import numpy as np\n",
    "import pandas as pd\n",
    "\n",
    "print(\"\\n Data Frame 01 \\n\")\n",
    "df1 = pd.DataFrame(np.random.rand(10,3) , columns=['A' , 'B' , 'C'])\n",
    "print(df1)\n",
    "# print(\"\\n Data Frame 02 \\n\")\n",
    "# df2 = pd.DataFrame(np.random.rand(5,3) , columns=['A' , 'B' , 'C'])\n",
    "# print(df2)\n",
    "print(\"\\n After ReNaming DataFrame 01 \\n\")\n",
    "df1_reindexing = df1.rename(columns={'A':'Column_01' , 'B':''})\n",
    "print(df1_reindexing)\n",
    "\n"
   ]
  },
  {
   "cell_type": "code",
   "execution_count": null,
   "id": "f6e69b41",
   "metadata": {},
   "outputs": [],
   "source": [
    "import numpy as np\n",
    "import pandas as pd\n",
    "\n",
    "DataFrame01 = pd.DataFrame(np.random.rand(3,5),columns=['A','B','C','D','E'],index=['Apple','Banana','CocoNut'])\n",
    "print(DataFrame01)"
   ]
  },
  {
   "cell_type": "code",
   "execution_count": null,
   "id": "2d355666",
   "metadata": {},
   "outputs": [],
   "source": [
    "import numpy as np\n",
    "import pandas as pd\n",
    "\n",
    "df = pd.read_csv('titanic.csv')\n",
    "print(\"Median Set is \\n \",df.median())\n",
    "print(\"Mean  from numoy \\n \" , np.mean(df))\n"
   ]
  },
  {
   "cell_type": "code",
   "execution_count": null,
   "id": "7e49acbe",
   "metadata": {},
   "outputs": [],
   "source": [
    "import numpy as np\n",
    "import pandas as pd\n",
    "\n",
    "df = pd.DataFrame(np.random.rand(3,4) , columns=['A','B','C','D'])\n",
    "print(df)\n",
    "for row in df.itertuples():\n",
    "    print(row)"
   ]
  },
  {
   "cell_type": "code",
   "execution_count": null,
   "id": "f8205c93",
   "metadata": {},
   "outputs": [],
   "source": [
    "df = pd.DataFrame(np.random.rand(10,1) , columns=['C1'] , index = [1,9,2,8,3,0,4,7,6,5])\n",
    "print(df.sort_index(ascending=False)) \n",
    "# print(df.sort_values()) \n"
   ]
  },
  {
   "cell_type": "code",
   "execution_count": null,
   "id": "c2eb8c11",
   "metadata": {},
   "outputs": [],
   "source": [
    "dataFramForSorting = pd.DataFrame(np.random.rand(10,2) , index=[1,9,2,8,3,0,4,7,6,5] , columns=['C1' , 'C2'] )\n",
    "print(dataFramForSorting.sort_index(axis=1))"
   ]
  },
  {
   "cell_type": "code",
   "execution_count": null,
   "id": "a633878b",
   "metadata": {},
   "outputs": [],
   "source": [
    "df_forSorting = pd.DataFrame({'col1':[2,1,12,2] , 'col2':[1,3,2,4]})\n",
    "# print(df_forSorting.sort_values(by='col2') )\n",
    "# print(df_forSorting.sort_values(by='col2' , kind='mergesort') )\n",
    "\n",
    "mySeries = pd.Series([[1,2,3,'Tom',\"Mike\",2.2],[11,22,33,44]])\n",
    "siri = pd.Series([1,'aa','C C','dD',222,\"IM@.T/Iaz\",2.2 , 3.3])\n",
    "# print(siri)\n",
    "\n",
    "print(pd.set_option(\"display.max_row\" , 90))\n",
    "print(pd.set_option(\"display.max_column\",30))\n",
    "\n",
    "# pd.reset_option(\"display.max_rows\")\n",
    "# pd.reset_option(\"display.max_columns\")\n",
    "\n",
    "# print(pd.get_option(\"display.max_row\"))\n",
    "# print(pd.get_option(\"display.max_columns\"))\n",
    "\n",
    "# with pd.option_context(\"display.max_rows\",10):\n",
    "#     print(pd.get_option(\"display.max_rows\"))\n",
    "\n",
    "\n",
    "print(pd.get_option(\"display.max_colwidth\"))\n",
    "\n",
    "\n",
    "\n",
    "# print(mySeries.str.upper())\n",
    "\n"
   ]
  },
  {
   "cell_type": "code",
   "execution_count": 53,
   "id": "f465a006",
   "metadata": {},
   "outputs": [
    {
     "name": "stdout",
     "output_type": "stream",
     "text": [
      "        one       two     three\n",
      "a  0.057478  0.626292  0.769338\n",
      "b  0.226103  0.265048  0.564983\n",
      "c  0.226103  0.265048  0.564983\n",
      "d  0.430728  0.295119  0.755454\n",
      "e  0.430728  0.295119  0.755454\n",
      "f  0.219304  0.553606  0.723162\n",
      "g  0.178319  0.789397  0.378351\n",
      "h  0.178319  0.789397  0.378351\n",
      "i       NaN       NaN       NaN\n"
     ]
    }
   ],
   "source": [
    "import numpy as np\n",
    "import pandas as pd\n",
    "\n",
    "MyDataFrame1 = pd.DataFrame(np.random.rand(5,3) , index=['a','c','e','f','h'] , columns=['one','two','three'])\n",
    "MyDataFrame1 = MyDataFrame1.reindex(['a','b','c','d','e','f','g','h','i'])\n",
    "# print(MyDataFrame1)\n",
    "\n",
    "print(MyDataFrame1.fillna(method='backfill'))\n"
   ]
  },
  {
   "cell_type": "code",
   "execution_count": null,
   "id": "16c8f3ec",
   "metadata": {},
   "outputs": [],
   "source": []
  }
 ],
 "metadata": {
  "interpreter": {
   "hash": "aee8b7b246df8f9039afb4144a1f6fd8d2ca17a180786b69acc140d282b71a49"
  },
  "kernelspec": {
   "display_name": "Python 3.10.4 64-bit",
   "language": "python",
   "name": "python3"
  },
  "language_info": {
   "codemirror_mode": {
    "name": "ipython",
    "version": 3
   },
   "file_extension": ".py",
   "mimetype": "text/x-python",
   "name": "python",
   "nbconvert_exporter": "python",
   "pygments_lexer": "ipython3",
   "version": "3.10.4"
  }
 },
 "nbformat": 4,
 "nbformat_minor": 5
}
