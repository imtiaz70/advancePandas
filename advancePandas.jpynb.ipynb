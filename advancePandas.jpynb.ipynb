{
 "cells": [
  {
   "cell_type": "markdown",
   "id": "9c89ec66",
   "metadata": {},
   "source": [
    "# Learining Advance Pandas , ZeeShu Books"
   ]
  },
  {
   "cell_type": "code",
   "execution_count": 1,
   "id": "24c02494",
   "metadata": {},
   "outputs": [
    {
     "name": "stdout",
     "output_type": "stream",
     "text": [
      "          0         1         2\n",
      "0  0.263812  0.866138  0.958863\n",
      "1  0.162498  0.930728  0.104990\n",
      "2  0.733982  0.418275  0.314494\n",
      "3  0.788664  0.860531  0.352642\n",
      "4  0.267468  0.158976  0.815865\n"
     ]
    }
   ],
   "source": [
    "import numpy as np\n",
    "import pandas as pd\n",
    "\n",
    "MyDataFrame = pd.DataFrame(np.random.rand(5,3))\n",
    "print(MyDataFrame)"
   ]
  },
  {
   "cell_type": "code",
   "execution_count": null,
   "id": "83ca1b69",
   "metadata": {},
   "outputs": [],
   "source": []
  }
 ],
 "metadata": {
  "interpreter": {
   "hash": "aee8b7b246df8f9039afb4144a1f6fd8d2ca17a180786b69acc140d282b71a49"
  },
  "kernelspec": {
   "display_name": "Python 3.10.4 64-bit",
   "language": "python",
   "name": "python3"
  },
  "language_info": {
   "codemirror_mode": {
    "name": "ipython",
    "version": 3
   },
   "file_extension": ".py",
   "mimetype": "text/x-python",
   "name": "python",
   "nbconvert_exporter": "python",
   "pygments_lexer": "ipython3",
   "version": "3.10.4"
  }
 },
 "nbformat": 4,
 "nbformat_minor": 5
}
