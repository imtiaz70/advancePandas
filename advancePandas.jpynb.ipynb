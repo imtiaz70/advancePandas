{
 "cells": [
  {
   "cell_type": "markdown",
   "id": "9c89ec66",
   "metadata": {},
   "source": [
    "# Learining Advance Pandas , ZeeShu Books"
   ]
  },
  {
   "cell_type": "code",
   "execution_count": 12,
   "id": "24c02494",
   "metadata": {},
   "outputs": [
    {
     "name": "stdout",
     "output_type": "stream",
     "text": [
      "       col1      col2      col3\n",
      "0  0.851928  0.113966  0.906998\n",
      "1  0.012432  0.521339  0.129413\n",
      "2  0.409259  0.334668  0.378545\n",
      "3  0.173124  0.451968  0.190227\n",
      "4  0.738971  0.753688  0.423654\n",
      "col1    0.437143\n",
      "col2    0.435126\n",
      "col3    0.405767\n",
      "dtype: float64\n"
     ]
    }
   ],
   "source": [
    "import numpy as np\n",
    "import pandas as pd\n",
    "\n",
    "MyDataFrame = pd.DataFrame(np.random.rand(5,3),columns=['col1','col2','col3'])\n",
    "print(MyDataFrame)\n",
    "\n",
    "def adderFun(eli1,eli2):\n",
    "    return(eli1+eli2)\n",
    "\n",
    "# MyDataFrame.pipe(adderFun,3)\n",
    "\n",
    "\n",
    "# print(\"MEAN \\n\",MyDataFrame.mean(1))\n",
    "\n",
    "# print(\"Using Lambda:\\n \" , MyDataFrame.apply(lambda x: x.max()-x.min()))\n",
    "# MyDataFrame.apply(np.mean,axis=1)\n",
    "# print(\"2nd Mean \\n \" , MyDataFrame.apply(np.mean,axis=1))\n",
    "MyDataFrame.applymap(lambda x:x*100)\n",
    "print(MyDataFrame.apply(np.mean))\n",
    "\n",
    "\n",
    "\n",
    "\n"
   ]
  },
  {
   "cell_type": "code",
   "execution_count": 13,
   "id": "83ca1b69",
   "metadata": {},
   "outputs": [
    {
     "name": "stdout",
     "output_type": "stream",
     "text": [
      "       Name  Age   CGP\n",
      "0       Ali   23  2.22\n",
      "1  abuBakar    6  2.90\n",
      "2      Umer   22  1.90\n",
      "3     Usman   19  3.20\n",
      "4     Ilyas   18  4.00\n",
      "\n",
      " AFTER REINDEXING \n",
      "\n",
      "\n",
      " Printing columns \n",
      "\n",
      "A\n",
      "x\n",
      "y\n",
      "C\n",
      "D\n"
     ]
    }
   ],
   "source": [
    "import numpy as np\n",
    "import pandas as pd\n",
    "\n",
    "dataFrame2 = pd.DataFrame({'Name':pd.Series(['Ali' , 'abuBakar' , 'Umer' , 'Usman' , 'Ilyas']) , 'Age':pd.Series([23,6,22,19,18]) , 'CGP':pd.Series([2.22,2.9,1.9,3.2,4.0])})\n",
    "print(dataFrame2)\n",
    "# print(\"Call a column \\n \" , dataFrame2.T)\n",
    "\n",
    "#DATAFRAME_03\n",
    "N = 20\n",
    "dataFrame3 = pd.DataFrame({'A':pd.date_range(start='20220602' , periods=N , freq='D') , \n",
    "                           'x':np.linspace(0,N-1,N),\n",
    "                           'y':np.random.rand(N),\n",
    "                           'C':np.random.choice(['Low','Medium','High'],N).tolist(),\n",
    "                           'D':np.random.normal(100,10,size=N).tolist()})\n",
    "# print(dataFrame3)\n",
    "print(\"\\n AFTER REINDEXING \\n\")\n",
    "\n",
    "df_reindexing = dataFrame3.reindex(index=[0,2,7] , columns=['A','C'])\n",
    "# print(df_reindexing)\n",
    "\n",
    "print(\"\\n Printing columns \\n\")\n",
    "for col in dataFrame3:\n",
    "    print(col)"
   ]
  },
  {
   "cell_type": "code",
   "execution_count": 14,
   "metadata": {},
   "outputs": [
    {
     "name": "stdout",
     "output_type": "stream",
     "text": [
      "\n",
      " Data Frame 01 \n",
      "\n",
      "          A         B         C\n",
      "0  0.074343  0.391306  0.978132\n",
      "1  0.516104  0.100273  0.097394\n",
      "2  0.925374  0.005673  0.134743\n",
      "3  0.139058  0.244059  0.197651\n",
      "4  0.651958  0.721738  0.085153\n",
      "5  0.237481  0.587581  0.119763\n",
      "6  0.533630  0.780800  0.457680\n",
      "7  0.677962  0.077769  0.938152\n",
      "8  0.400583  0.202197  0.401134\n",
      "9  0.855754  0.618921  0.094948\n",
      "\n",
      " After ReNaming DataFrame 01 \n",
      "\n",
      "   Column_01                   C\n",
      "0   0.074343  0.391306  0.978132\n",
      "1   0.516104  0.100273  0.097394\n",
      "2   0.925374  0.005673  0.134743\n",
      "3   0.139058  0.244059  0.197651\n",
      "4   0.651958  0.721738  0.085153\n",
      "5   0.237481  0.587581  0.119763\n",
      "6   0.533630  0.780800  0.457680\n",
      "7   0.677962  0.077769  0.938152\n",
      "8   0.400583  0.202197  0.401134\n",
      "9   0.855754  0.618921  0.094948\n"
     ]
    }
   ],
   "source": [
    "import numpy as np\n",
    "import pandas as pd\n",
    "\n",
    "print(\"\\n Data Frame 01 \\n\")\n",
    "df1 = pd.DataFrame(np.random.rand(10,3) , columns=['A' , 'B' , 'C'])\n",
    "print(df1)\n",
    "# print(\"\\n Data Frame 02 \\n\")\n",
    "# df2 = pd.DataFrame(np.random.rand(5,3) , columns=['A' , 'B' , 'C'])\n",
    "# print(df2)\n",
    "print(\"\\n After ReNaming DataFrame 01 \\n\")\n",
    "df1_reindexing = df1.rename(columns={'A':'Column_01' , 'B':''})\n",
    "print(df1_reindexing)\n",
    "\n"
   ]
  },
  {
   "cell_type": "code",
   "execution_count": 15,
   "id": "f6e69b41",
   "metadata": {},
   "outputs": [
    {
     "name": "stdout",
     "output_type": "stream",
     "text": [
      "                A         B         C         D         E\n",
      "Apple    0.663037  0.810106  0.492858  0.230563  0.520485\n",
      "Banana   0.146035  0.443125  0.654349  0.609712  0.528581\n",
      "CocoNut  0.747417  0.545602  0.610238  0.179651  0.221038\n"
     ]
    }
   ],
   "source": [
    "import numpy as np\n",
    "import pandas as pd\n",
    "\n",
    "DataFrame01 = pd.DataFrame(np.random.rand(3,5),columns=['A','B','C','D','E'],index=['Apple','Banana','CocoNut'])\n",
    "print(DataFrame01)"
   ]
  },
  {
   "cell_type": "code",
   "execution_count": 16,
   "id": "2d355666",
   "metadata": {},
   "outputs": [
    {
     "name": "stdout",
     "output_type": "stream",
     "text": [
      "Median Set is \n",
      "  PassengerId    446.0000\n",
      "Survived         0.0000\n",
      "Pclass           3.0000\n",
      "Age             28.0000\n",
      "SibSp            0.0000\n",
      "Parch            0.0000\n",
      "Fare            14.4542\n",
      "dtype: float64\n",
      "Mean  from numoy \n",
      "  PassengerId    446.000000\n",
      "Survived         0.383838\n",
      "Pclass           2.308642\n",
      "Age             29.699118\n",
      "SibSp            0.523008\n",
      "Parch            0.381594\n",
      "Fare            32.204208\n",
      "dtype: float64\n"
     ]
    },
    {
     "name": "stderr",
     "output_type": "stream",
     "text": [
      "/var/folders/7w/cwn158qd4kdd2x7ryts_x7hw0000gn/T/ipykernel_1450/1810980233.py:5: FutureWarning: Dropping of nuisance columns in DataFrame reductions (with 'numeric_only=None') is deprecated; in a future version this will raise TypeError.  Select only valid columns before calling the reduction.\n",
      "  print(\"Median Set is \\n \",df.median())\n",
      "/Library/Frameworks/Python.framework/Versions/3.10/lib/python3.10/site-packages/numpy/core/fromnumeric.py:3472: FutureWarning: In a future version, DataFrame.mean(axis=None) will return a scalar mean over the entire DataFrame. To retain the old behavior, use 'frame.mean(axis=0)' or just 'frame.mean()'\n",
      "  return mean(axis=axis, dtype=dtype, out=out, **kwargs)\n",
      "/Library/Frameworks/Python.framework/Versions/3.10/lib/python3.10/site-packages/numpy/core/fromnumeric.py:3472: FutureWarning: Dropping of nuisance columns in DataFrame reductions (with 'numeric_only=None') is deprecated; in a future version this will raise TypeError.  Select only valid columns before calling the reduction.\n",
      "  return mean(axis=axis, dtype=dtype, out=out, **kwargs)\n"
     ]
    }
   ],
   "source": [
    "import numpy as np\n",
    "import pandas as pd\n",
    "\n",
    "df = pd.read_csv('titanic.csv')\n",
    "print(\"Median Set is \\n \",df.median())\n",
    "print(\"Mean  from numoy \\n \" , np.mean(df))\n"
   ]
  },
  {
   "cell_type": "code",
   "execution_count": 17,
   "id": "7e49acbe",
   "metadata": {},
   "outputs": [
    {
     "name": "stdout",
     "output_type": "stream",
     "text": [
      "          A         B         C         D\n",
      "0  0.822233  0.671924  0.130360  0.394456\n",
      "1  0.303068  0.892152  0.015018  0.961082\n",
      "2  0.406612  0.424384  0.034379  0.099640\n",
      "Pandas(Index=0, A=0.8222327054541815, B=0.671924270408588, C=0.13036011187258112, D=0.3944560467680913)\n",
      "Pandas(Index=1, A=0.303068372786631, B=0.8921523617574111, C=0.015017970144628912, D=0.9610820858215113)\n",
      "Pandas(Index=2, A=0.40661246051128364, B=0.4243841712141633, C=0.034379094289448964, D=0.09964011876595658)\n"
     ]
    }
   ],
   "source": [
    "import numpy as np\n",
    "import pandas as pd\n",
    "\n",
    "df = pd.DataFrame(np.random.rand(3,4) , columns=['A','B','C','D'])\n",
    "print(df)\n",
    "for row in df.itertuples():\n",
    "    print(row)"
   ]
  },
  {
   "cell_type": "code",
   "execution_count": 18,
   "id": "f8205c93",
   "metadata": {},
   "outputs": [
    {
     "name": "stdout",
     "output_type": "stream",
     "text": [
      "         C1\n",
      "9  0.126701\n",
      "8  0.388411\n",
      "7  0.190486\n",
      "6  0.100451\n",
      "5  0.003359\n",
      "4  0.477099\n",
      "3  0.159269\n",
      "2  0.342716\n",
      "1  0.759922\n",
      "0  0.396514\n"
     ]
    }
   ],
   "source": [
    "df = pd.DataFrame(np.random.rand(10,1) , columns=['C1'] , index = [1,9,2,8,3,0,4,7,6,5])\n",
    "print(df.sort_index(ascending=False)) \n",
    "# print(df.sort_values()) \n"
   ]
  },
  {
   "cell_type": "code",
   "execution_count": 19,
   "id": "c2eb8c11",
   "metadata": {},
   "outputs": [
    {
     "name": "stdout",
     "output_type": "stream",
     "text": [
      "         C1        C2\n",
      "1  0.729419  0.121256\n",
      "9  0.581630  0.705711\n",
      "2  0.615692  0.681178\n",
      "8  0.283024  0.320827\n",
      "3  0.162524  0.158817\n",
      "0  0.085379  0.689057\n",
      "4  0.388905  0.750448\n",
      "7  0.965861  0.280677\n",
      "6  0.003847  0.217378\n",
      "5  0.105977  0.124262\n"
     ]
    }
   ],
   "source": [
    "dataFramForSorting = pd.DataFrame(np.random.rand(10,2) , index=[1,9,2,8,3,0,4,7,6,5] , columns=['C1' , 'C2'] )\n",
    "print(dataFramForSorting.sort_index(axis=1))"
   ]
  },
  {
   "cell_type": "code",
   "execution_count": 20,
   "id": "a633878b",
   "metadata": {},
   "outputs": [
    {
     "name": "stdout",
     "output_type": "stream",
     "text": [
      "None\n",
      "None\n",
      "50\n"
     ]
    }
   ],
   "source": [
    "df_forSorting = pd.DataFrame({'col1':[2,1,12,2] , 'col2':[1,3,2,4]})\n",
    "# print(df_forSorting.sort_values(by='col2') )\n",
    "# print(df_forSorting.sort_values(by='col2' , kind='mergesort') )\n",
    "\n",
    "mySeries = pd.Series([[1,2,3,'Tom',\"Mike\",2.2],[11,22,33,44]])\n",
    "siri = pd.Series([1,'aa','C C','dD',222,\"IM@.T/Iaz\",2.2 , 3.3])\n",
    "# print(siri)\n",
    "\n",
    "print(pd.set_option(\"display.max_row\" , 90))\n",
    "print(pd.set_option(\"display.max_column\",30))\n",
    "\n",
    "# pd.reset_option(\"display.max_rows\")\n",
    "# pd.reset_option(\"display.max_columns\")\n",
    "\n",
    "# print(pd.get_option(\"display.max_row\"))\n",
    "# print(pd.get_option(\"display.max_columns\"))\n",
    "\n",
    "# with pd.option_context(\"display.max_rows\",10):\n",
    "#     print(pd.get_option(\"display.max_rows\"))\n",
    "\n",
    "\n",
    "print(pd.get_option(\"display.max_colwidth\"))\n",
    "\n",
    "\n",
    "\n",
    "# print(mySeries.str.upper())\n",
    "\n"
   ]
  },
  {
   "cell_type": "code",
   "execution_count": 21,
   "id": "f465a006",
   "metadata": {},
   "outputs": [
    {
     "name": "stdout",
     "output_type": "stream",
     "text": [
      "          A         B\n",
      "a  0.318809  0.984324\n",
      "b  0.848069  0.985312\n",
      "c  0.645372  0.786639\n",
      "d  0.765894  0.957422\n",
      "e  0.880732  0.484120\n",
      "f  0.545988  0.310877\n",
      "g  0.827142  0.823755\n",
      "h  0.206121  0.926136\n"
     ]
    }
   ],
   "source": [
    "df3 = pd.DataFrame(np.random.rand(8,2) , index=['a','b','c','d','e','f','g','h'] , columns=['A','B'])\n",
    "print(df3)"
   ]
  },
  {
   "cell_type": "code",
   "execution_count": null,
   "id": "16c8f3ec",
   "metadata": {},
   "outputs": [],
   "source": []
  }
 ],
 "metadata": {
  "interpreter": {
   "hash": "aee8b7b246df8f9039afb4144a1f6fd8d2ca17a180786b69acc140d282b71a49"
  },
  "kernelspec": {
   "display_name": "Python 3.10.4 64-bit",
   "language": "python",
   "name": "python3"
  },
  "language_info": {
   "codemirror_mode": {
    "name": "ipython",
    "version": 3
   },
   "file_extension": ".py",
   "mimetype": "text/x-python",
   "name": "python",
   "nbconvert_exporter": "python",
   "pygments_lexer": "ipython3",
   "version": "3.10.4"
  }
 },
 "nbformat": 4,
 "nbformat_minor": 5
}
