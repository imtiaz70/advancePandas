{
 "cells": [
  {
   "cell_type": "markdown",
   "id": "9c89ec66",
   "metadata": {},
   "source": [
    "# Learining Advance Pandas , ZeeShu Books"
   ]
  },
  {
   "cell_type": "code",
   "execution_count": 2,
   "id": "24c02494",
   "metadata": {},
   "outputs": [
    {
     "name": "stdout",
     "output_type": "stream",
     "text": [
      "          0         1         2\n",
      "0  0.168085  0.239449  0.710811\n",
      "1  0.860718  0.853040  0.177608\n",
      "2  0.974982  0.244392  0.558262\n",
      "3  0.460782  0.999717  0.189347\n",
      "4  0.440222  0.475489  0.257461\n"
     ]
    }
   ],
   "source": [
    "import numpy as np\n",
    "import pandas as pd\n",
    "\n",
    "MyDataFrame = pd.DataFrame(np.random.rand(5,3))\n",
    "print(MyDataFrame)\n",
    "\n",
    "def adderFun(eli1,eli2):\n",
    "    return(eli1+eli2)"
   ]
  },
  {
   "cell_type": "code",
   "execution_count": null,
   "id": "83ca1b69",
   "metadata": {},
   "outputs": [],
   "source": []
  }
 ],
 "metadata": {
  "interpreter": {
   "hash": "aee8b7b246df8f9039afb4144a1f6fd8d2ca17a180786b69acc140d282b71a49"
  },
  "kernelspec": {
   "display_name": "Python 3.10.4 64-bit",
   "language": "python",
   "name": "python3"
  },
  "language_info": {
   "codemirror_mode": {
    "name": "ipython",
    "version": 3
   },
   "file_extension": ".py",
   "mimetype": "text/x-python",
   "name": "python",
   "nbconvert_exporter": "python",
   "pygments_lexer": "ipython3",
   "version": "3.10.4"
  }
 },
 "nbformat": 4,
 "nbformat_minor": 5
}
