{
 "cells": [
  {
   "cell_type": "markdown",
   "id": "9c89ec66",
   "metadata": {},
   "source": [
    "# Learining Advance Pandas , ZeeShu Books"
   ]
  },
  {
   "cell_type": "code",
   "execution_count": null,
   "id": "24c02494",
   "metadata": {},
   "outputs": [],
   "source": [
    "import numpy as np\n",
    "import pandas as pd\n",
    "\n",
    "MyDataFrame = pd.DataFrame(np.random.rand(5,3),columns=['col1','col2','col3'])\n",
    "print(MyDataFrame)\n",
    "\n",
    "def adderFun(eli1,eli2):\n",
    "    return(eli1+eli2)\n",
    "\n",
    "# MyDataFrame.pipe(adderFun,3)\n",
    "\n",
    "\n",
    "# print(\"MEAN \\n\",MyDataFrame.mean(1))\n",
    "\n",
    "# print(\"Using Lambda:\\n \" , MyDataFrame.apply(lambda x: x.max()-x.min()))\n",
    "# MyDataFrame.apply(np.mean,axis=1)\n",
    "# print(\"2nd Mean \\n \" , MyDataFrame.apply(np.mean,axis=1))\n",
    "MyDataFrame.applymap(lambda x:x*100)\n",
    "print(MyDataFrame.apply(np.mean))\n",
    "\n",
    "\n",
    "\n",
    "\n"
   ]
  },
  {
   "cell_type": "code",
   "execution_count": null,
   "id": "83ca1b69",
   "metadata": {},
   "outputs": [],
   "source": [
    "import numpy as np\n",
    "import pandas as pd\n",
    "\n",
    "dataFrame2 = pd.DataFrame({'Name':pd.Series(['Ali' , 'abuBakar' , 'Umer' , 'Usman' , 'Ilyas']) , 'Age':pd.Series([23,6,22,19,18]) , 'CGP':pd.Series([2.22,2.9,1.9,3.2,4.0])})\n",
    "print(dataFrame2)\n",
    "# print(\"Call a column \\n \" , dataFrame2.T)\n",
    "\n",
    "#DATAFRAME_03\n",
    "N = 20\n",
    "dataFrame3 = pd.DataFrame({'A':pd.date_range(start='20220602' , periods=N , freq='D') , \n",
    "                           'x':np.linspace(0,N-1,N),\n",
    "                           'y':np.random.rand(N),\n",
    "                           'C':np.random.choice(['Low','Medium','High'],N).tolist(),\n",
    "                           'D':np.random.normal(100,10,size=N).tolist()})\n",
    "# print(dataFrame3)\n",
    "print(\"\\n AFTER REINDEXING \\n\")\n",
    "\n",
    "df_reindexing = dataFrame3.reindex(index=[0,2,7] , columns=['A','C'])\n",
    "# print(df_reindexing)\n",
    "\n",
    "print(\"\\n Printing columns \\n\")\n",
    "for col in dataFrame3:\n",
    "    print(col)"
   ]
  },
  {
   "cell_type": "code",
   "execution_count": null,
   "metadata": {},
   "outputs": [],
   "source": [
    "import numpy as np\n",
    "import pandas as pd\n",
    "\n",
    "print(\"\\n Data Frame 01 \\n\")\n",
    "df1 = pd.DataFrame(np.random.rand(10,3) , columns=['A' , 'B' , 'C'])\n",
    "print(df1)\n",
    "# print(\"\\n Data Frame 02 \\n\")\n",
    "# df2 = pd.DataFrame(np.random.rand(5,3) , columns=['A' , 'B' , 'C'])\n",
    "# print(df2)\n",
    "print(\"\\n After ReNaming DataFrame 01 \\n\")\n",
    "df1_reindexing = df1.rename(columns={'A':'Column_01' , 'B':''})\n",
    "print(df1_reindexing)\n",
    "\n"
   ]
  },
  {
   "cell_type": "code",
   "execution_count": null,
   "id": "f6e69b41",
   "metadata": {},
   "outputs": [],
   "source": [
    "import numpy as np\n",
    "import pandas as pd\n",
    "\n",
    "DataFrame01 = pd.DataFrame(np.random.rand(3,5),columns=['A','B','C','D','E'],index=['Apple','Banana','CocoNut'])\n",
    "print(DataFrame01)"
   ]
  },
  {
   "cell_type": "code",
   "execution_count": null,
   "id": "2d355666",
   "metadata": {},
   "outputs": [],
   "source": [
    "import numpy as np\n",
    "import pandas as pd\n",
    "\n",
    "df = pd.read_csv('titanic.csv')\n",
    "print(\"Median Set is \\n \",df.median())\n",
    "print(\"Mean  from numoy \\n \" , np.mean(df))\n"
   ]
  },
  {
   "cell_type": "code",
   "execution_count": null,
   "id": "7e49acbe",
   "metadata": {},
   "outputs": [],
   "source": [
    "import numpy as np\n",
    "import pandas as pd\n",
    "\n",
    "df = pd.DataFrame(np.random.rand(3,4) , columns=['A','B','C','D'])\n",
    "print(df)\n",
    "for row in df.itertuples():\n",
    "    print(row)"
   ]
  },
  {
   "cell_type": "code",
   "execution_count": null,
   "id": "f8205c93",
   "metadata": {},
   "outputs": [],
   "source": [
    "df = pd.DataFrame(np.random.rand(10,1) , columns=['C1'] , index = [1,9,2,8,3,0,4,7,6,5])\n",
    "print(df.sort_index(ascending=False)) \n",
    "# print(df.sort_values()) \n"
   ]
  },
  {
   "cell_type": "code",
   "execution_count": null,
   "id": "c2eb8c11",
   "metadata": {},
   "outputs": [],
   "source": [
    "dataFramForSorting = pd.DataFrame(np.random.rand(10,2) , index=[1,9,2,8,3,0,4,7,6,5] , columns=['C1' , 'C2'] )\n",
    "print(dataFramForSorting.sort_index(axis=1))"
   ]
  },
  {
   "cell_type": "code",
   "execution_count": null,
   "id": "a633878b",
   "metadata": {},
   "outputs": [],
   "source": [
    "df_forSorting = pd.DataFrame({'col1':[2,1,12,2] , 'col2':[1,3,2,4]})\n",
    "# print(df_forSorting.sort_values(by='col2') )\n",
    "# print(df_forSorting.sort_values(by='col2' , kind='mergesort') )\n",
    "\n",
    "mySeries = pd.Series([[1,2,3,'Tom',\"Mike\",2.2],[11,22,33,44]])\n",
    "siri = pd.Series([1,'aa','C C','dD',222,\"IM@.T/Iaz\",2.2 , 3.3])\n",
    "# print(siri)\n",
    "\n",
    "print(pd.set_option(\"display.max_row\" , 90))\n",
    "print(pd.set_option(\"display.max_column\",30))\n",
    "\n",
    "# pd.reset_option(\"display.max_rows\")\n",
    "# pd.reset_option(\"display.max_columns\")\n",
    "\n",
    "# print(pd.get_option(\"display.max_row\"))\n",
    "# print(pd.get_option(\"display.max_columns\"))\n",
    "\n",
    "# with pd.option_context(\"display.max_rows\",10):\n",
    "#     print(pd.get_option(\"display.max_rows\"))\n",
    "\n",
    "\n",
    "print(pd.get_option(\"display.max_colwidth\"))\n",
    "\n",
    "\n",
    "\n",
    "# print(mySeries.str.upper())\n",
    "\n"
   ]
  },
  {
   "cell_type": "code",
   "execution_count": null,
   "id": "f465a006",
   "metadata": {},
   "outputs": [],
   "source": [
    "import numpy as np\n",
    "import pandas as pd\n",
    "\n",
    "MyDataFrame1 = pd.DataFrame(np.random.rand(5,3) , index=['a','c','e','f','h'] , columns=['one','two','three'])\n",
    "MyDataFrame1 = MyDataFrame1.reindex(['a','b','c','d','e','f','g','h','i'])\n",
    "# print(MyDataFrame1)\n",
    "\n",
    "# print(MyDataFrame1.dropna(axis=0))\n",
    "\n",
    "dataFrame4 = pd.DataFrame({'Points':[876,789,863,673,741,812,756,788,694,701,804] , \n",
    "                            'Rank':[1,2,2,3,3,4,1,1,2,4,1],\n",
    "                            'Team':[1,2,2,3,4,1,1,2,4,1,2] , \n",
    "                            'Year':[2014,2015,2014,2015,2014,2015,2016,2017,2016,2014,2015]})\n",
    "# print(dataFrame4)\n",
    "\n",
    "grouped  = dataFrame4.groupby('Year').filter(lambda x: len(x)>=3)\n",
    "print(grouped)\n",
    "print(dataFrame4)\n",
    "# print(grouped['Rank'].agg([np.mean , np.sum , np.std]))\n",
    "# score = lambda x: (x-x.mean())/x.std()*10\n",
    "# print(score)\n",
    "# print(grouped.transform(score))\n",
    "# print(dataFrame4.replace({35:3500 , 13:1300}))\n"
   ]
  },
  {
   "cell_type": "markdown",
   "id": "16c8f3ec",
   "metadata": {},
   "source": [
    "#### Merging/Joining"
   ]
  },
  {
   "cell_type": "code",
   "execution_count": null,
   "id": "55afe259",
   "metadata": {},
   "outputs": [],
   "source": [
    "import numpy as np\n",
    "import pandas as pd\n",
    "\n",
    "left = pd.DataFrame({'id':[44,22,33,11] , 'Name':['Ali' , 'Hamza' , 'Ubaid' , 'Raza'] , 'Subject':['athelete' , 'Qari' , 'Engineer' , 'Lawyer']})\n",
    "print(left)\n",
    "\n",
    "right = pd.DataFrame({'id':[33,22,11,44,55] , 'Name':['Kamal' , 'Shoaib' , 'Ata' , 'Muddassir' , 'mahi'] , 'Subject':['athelete' , 'Qari' , 'Engineer' , 'Lawyer' , 'painter']})\n",
    "print(right)\n",
    "\n",
    "print(\"\\n AFTER CONCATENATION \\n\")\n",
    "print(left.append([right,left]))\n"
   ]
  },
  {
   "cell_type": "markdown",
   "id": "885f6e87",
   "metadata": {},
   "source": [
    "#### Time Series"
   ]
  },
  {
   "cell_type": "code",
   "execution_count": 65,
   "id": "f0930bd4",
   "metadata": {},
   "outputs": [
    {
     "name": "stdout",
     "output_type": "stream",
     "text": [
      "0   2021-01-01\n",
      "1   2021-01-02\n",
      "2   2021-01-03\n",
      "dtype: datetime64[ns]\n",
      "0   0 days\n",
      "1   1 days\n",
      "2   2 days\n",
      "dtype: timedelta64[ns]\n",
      "           A      B          C          D\n",
      "0 2021-01-01 0 days 2021-01-01 2021-01-01\n",
      "1 2021-01-02 1 days 2021-01-03 2021-01-04\n",
      "2 2021-01-03 2 days 2021-01-05 2021-01-07\n"
     ]
    }
   ],
   "source": [
    "s = pd.Series(pd.date_range('2021-1-1' , periods=3 , freq='D'))\n",
    "\n",
    "td = pd.Series([pd.Timedelta(days = i) for i in range(3)])\n",
    "\n",
    "df = pd.DataFrame(dict(A=s , B = td))\n",
    "df['C'] = df['A'] + df['B']\n",
    "df['D'] = df['C'] + df['B']\n",
    "print(s)\n",
    "print(td)\n",
    "print(df)"
   ]
  },
  {
   "cell_type": "code",
   "execution_count": 29,
   "id": "8aa8a97c",
   "metadata": {},
   "outputs": [
    {
     "name": "stdout",
     "output_type": "stream",
     "text": [
      "2    2,018\n",
      "1      255\n",
      "4      259\n",
      "5     5600\n",
      "3     5832\n",
      "6      650\n",
      "0      665\n",
      "Name: Compilation , dtype: object\n"
     ]
    }
   ],
   "source": [
    "import numpy as np\n",
    "import pandas as pd\n",
    "\n",
    "df = pd.DataFrame(np.random.rand(10,4) , index=pd.date_range('5-6-2022' , periods=10) , columns=list('ABCD'))\n",
    "df2 = pd.read_csv('titanic.csv')\n",
    "dataFrame3 = pd.read_csv('Untitled spreadsheet - Sheet1.csv')\n",
    "\n",
    "# print(dataFrame3[0:2,0:1])\n",
    "# print(dataFrame3.sort_values(ascending=True)) \n",
    "# print(df.sort_index(ascending=False)) \n",
    "# print(df2['Age'].sort_values(ascending=False))\n",
    "print(dataFrame3['Compilation '].sort_values(ascending=True))\n"
   ]
  },
  {
   "cell_type": "code",
   "execution_count": null,
   "id": "0cb802c7",
   "metadata": {},
   "outputs": [],
   "source": []
  }
 ],
 "metadata": {
  "interpreter": {
   "hash": "aee8b7b246df8f9039afb4144a1f6fd8d2ca17a180786b69acc140d282b71a49"
  },
  "kernelspec": {
   "display_name": "Python 3.10.4 64-bit",
   "language": "python",
   "name": "python3"
  },
  "language_info": {
   "codemirror_mode": {
    "name": "ipython",
    "version": 3
   },
   "file_extension": ".py",
   "mimetype": "text/x-python",
   "name": "python",
   "nbconvert_exporter": "python",
   "pygments_lexer": "ipython3",
   "version": "3.10.5"
  }
 },
 "nbformat": 4,
 "nbformat_minor": 5
}
